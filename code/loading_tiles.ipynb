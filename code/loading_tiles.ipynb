{
 "cells": [
  {
   "cell_type": "markdown",
   "id": "1342a33b",
   "metadata": {},
   "source": [
    "## DOWNLOADING THE TILE(S)"
   ]
  },
  {
   "cell_type": "markdown",
   "id": "d66869f6",
   "metadata": {},
   "source": [
    "***\n",
    "\n",
    "### Providence"
   ]
  },
  {
   "cell_type": "code",
   "execution_count": 60,
   "id": "27ab493a",
   "metadata": {},
   "outputs": [
    {
     "name": "stdout",
     "output_type": "stream",
     "text": [
      "Tiles to Download: ['n41w071']\n"
     ]
    }
   ],
   "source": [
    "import os\n",
    "import requests\n",
    "from bs4 import BeautifulSoup\n",
    "\n",
    "def get_tile_name(lat, lon):\n",
    "    \"\"\"\n",
    "    Returns the USGS tile name formatted correctly (e.g., 'n39w076').\n",
    "    \"\"\"\n",
    "    lat_tile = f\"n{int(abs(lat)):02d}\" if lat >= 0 else f\"s{int(abs(lat)):02d}\"\n",
    "    lon_tile = f\"w{int(abs(lon)):03d}\" if lon < 0 else f\"e{int(abs(lon)):03d}\"\n",
    "    return f\"{lat_tile}{lon_tile}\"\n",
    "\n",
    "def get_tiles_in_bbox(min_lat, max_lat, min_lon, max_lon):\n",
    "    \"\"\"\n",
    "    Returns a list of tile names covering a bounding box.\n",
    "    \"\"\"\n",
    "    tile_list = []\n",
    "    for lat in range(int(min_lat), int(max_lat) + 1):\n",
    "        for lon in range(int(min_lon), int(max_lon) + 1):\n",
    "            tile_list.append(get_tile_name(lat, lon))\n",
    "    return tile_list\n",
    "\n",
    "def find_latest_tif(tile_name):\n",
    "    \"\"\"\n",
    "    Finds the most recent .tif file in the historical folder for a given tile.\n",
    "    \"\"\"\n",
    "    base_url = f\"https://prd-tnm.s3.amazonaws.com/StagedProducts/Elevation/13/TIFF/historical/{tile_name}/\"\n",
    "    response = requests.get(base_url)\n",
    "\n",
    "    if response.status_code != 200:\n",
    "        print(f\"Could not access directory for {tile_name}\")\n",
    "        return None\n",
    "\n",
    "    soup = BeautifulSoup(response.text, \"html.parser\")\n",
    "    for link in soup.find_all(\"a\"):\n",
    "        href = link.get(\"href\")\n",
    "        if href and href.endswith(\".tif\") and f\"USGS_13_{tile_name}\" in href:\n",
    "            return base_url + href\n",
    "\n",
    "    print(f\"No .tif file found for {tile_name}\")\n",
    "    return None\n",
    "\n",
    "tiles = get_tiles_in_bbox(41.664705, 41.932422, -71.569061, -71.198273)\n",
    "print(\"Tiles to Download:\", tiles)"
   ]
  },
  {
   "cell_type": "markdown",
   "id": "ef63e3de",
   "metadata": {},
   "source": [
    "### Clip to Providence Boundary"
   ]
  },
  {
   "cell_type": "code",
   "execution_count": 61,
   "id": "035991e6",
   "metadata": {},
   "outputs": [
    {
     "name": "stdout",
     "output_type": "stream",
     "text": [
      "✅ DEM clipped and saved to: /Users/emmawit/Downloads/USGS_13_n42w072_clipped.tif\n"
     ]
    }
   ],
   "source": [
    "import rasterio\n",
    "from rasterio.mask import mask\n",
    "import geopandas as gpd\n",
    "\n",
    "# File paths\n",
    "dem_path = \"/Users/emmawit/Downloads/USGS_13_n42w072_20240130.tif\"\n",
    "shapefile_path = \"/Users/emmawit/Downloads/PVD_Boundary/PVD_Boundary.shp\"  # Update this path!\n",
    "output_path = \"/Users/emmawit/Downloads/USGS_13_n42w072_clipped.tif\"\n",
    "\n",
    "# Load shapefile with geopandas\n",
    "gdf = gpd.read_file(shapefile_path)\n",
    "\n",
    "# Ensure the shapefile and raster are in the same CRS\n",
    "with rasterio.open(dem_path) as src:\n",
    "    if gdf.crs != src.crs:\n",
    "        gdf = gdf.to_crs(src.crs)\n",
    "\n",
    "    # Mask the DEM with the shapefile geometry\n",
    "    out_image, out_transform = mask(src, gdf.geometry, crop=True)\n",
    "    out_meta = src.meta.copy()\n",
    "\n",
    "# Update metadata\n",
    "out_meta.update({\n",
    "    \"driver\": \"GTiff\",\n",
    "    \"height\": out_image.shape[1],\n",
    "    \"width\": out_image.shape[2],\n",
    "    \"transform\": out_transform\n",
    "})\n",
    "\n",
    "# Save the clipped raster\n",
    "with rasterio.open(output_path, \"w\", **out_meta) as dest:\n",
    "    dest.write(out_image)\n",
    "\n",
    "print(\"✅ DEM clipped and saved to:\", output_path)"
   ]
  },
  {
   "cell_type": "markdown",
   "id": "5532cea0",
   "metadata": {},
   "source": [
    "***\n",
    "\n",
    "### Boston"
   ]
  },
  {
   "cell_type": "code",
   "execution_count": 99,
   "id": "4be5e0b2",
   "metadata": {},
   "outputs": [
    {
     "name": "stdout",
     "output_type": "stream",
     "text": [
      "Tiles to Download: ['n42w073', 'n42w072', 'n42w071', 'n42w070', 'n42w069']\n"
     ]
    }
   ],
   "source": [
    "import os\n",
    "import requests\n",
    "from bs4 import BeautifulSoup\n",
    "\n",
    "def get_tile_name(lat, lon):\n",
    "    \"\"\"\n",
    "    Returns the USGS tile name formatted correctly (e.g., 'n39w076').\n",
    "    \"\"\"\n",
    "    lat_tile = f\"n{int(abs(lat)):02d}\" if lat >= 0 else f\"s{int(abs(lat)):02d}\"\n",
    "    lon_tile = f\"w{int(abs(lon)):03d}\" if lon < 0 else f\"e{int(abs(lon)):03d}\"\n",
    "    return f\"{lat_tile}{lon_tile}\"\n",
    "\n",
    "def get_tiles_in_bbox(min_lat, max_lat, min_lon, max_lon):\n",
    "    \"\"\"\n",
    "    Returns a list of tile names covering a bounding box.\n",
    "    \"\"\"\n",
    "    tile_list = []\n",
    "    for lat in range(int(min_lat), int(max_lat) + 1):\n",
    "        for lon in range(int(min_lon), int(max_lon) + 1):\n",
    "            tile_list.append(get_tile_name(lat, lon))\n",
    "    return tile_list\n",
    "\n",
    "def find_latest_tif(tile_name):\n",
    "    \"\"\"\n",
    "    Finds the most recent .tif file in the historical folder for a given tile.\n",
    "    \"\"\"\n",
    "    base_url = f\"https://prd-tnm.s3.amazonaws.com/StagedProducts/Elevation/13/TIFF/historical/{tile_name}/\"\n",
    "    response = requests.get(base_url)\n",
    "\n",
    "    if response.status_code != 200:\n",
    "        print(f\"Could not access directory for {tile_name}\")\n",
    "        return None\n",
    "\n",
    "    soup = BeautifulSoup(response.text, \"html.parser\")\n",
    "    for link in soup.find_all(\"a\"):\n",
    "        href = link.get(\"href\")\n",
    "        if href and href.endswith(\".tif\") and f\"USGS_13_{tile_name}\" in href:\n",
    "            return base_url + href\n",
    "\n",
    "    print(f\"No .tif file found for {tile_name}\")\n",
    "    return None\n",
    "\n",
    "tiles = get_tiles_in_bbox(42.237964, 42.886589, -73.508142, -69.928393)\n",
    "print(\"Tiles to Download:\", tiles)"
   ]
  },
  {
   "cell_type": "markdown",
   "id": "4c2393d3",
   "metadata": {},
   "source": [
    "### Mosaic"
   ]
  },
  {
   "cell_type": "code",
   "execution_count": 100,
   "id": "1a34da90",
   "metadata": {},
   "outputs": [
    {
     "name": "stdout",
     "output_type": "stream",
     "text": [
      "The number of mosaiced tiles is: 2\n",
      "You have mosaiced the results\n"
     ]
    }
   ],
   "source": [
    "#Downloaded tiles directly from USGS after figuring out which fit ^^\n",
    "\n",
    "from rasterio.merge import merge\n",
    "\n",
    "inputfolder= '/Users/emmawit/Downloads/boston_dem'\n",
    "outfile = 'mosaiced-boston.tif'\n",
    "\n",
    "tiflist = []\n",
    "\n",
    "for file in os.listdir(inputfolder):    \n",
    "    if file.endswith('.tif'):\n",
    "        tiffile = os.path.join(inputfolder, file)\n",
    "        tiflist.append(tiffile)\n",
    "\n",
    "\n",
    "src_files_to_mosaic = []\n",
    "for fp in tiflist:\n",
    "    try:\n",
    "        tile_src = rio.open(fp)\n",
    "        tile_bounds = tile_src.bounds\n",
    "        \n",
    "        src_files_to_mosaic.append(tile_src)\n",
    "    except:\n",
    "        continue\n",
    "\n",
    "print('The number of mosaiced tiles is:', len(src_files_to_mosaic))\n",
    "\n",
    "mosaic, out_trans = merge(src_files_to_mosaic) \n",
    "print('You have mosaiced the results')\n",
    "\n",
    "out_meta = tile_src.meta.copy()\n",
    "out_meta.update({\"driver\": \"GTiff\",\n",
    "                  \"height\": mosaic.shape[1],\n",
    "                  \"width\": mosaic.shape[2],\n",
    "                  \"transform\": out_trans, \n",
    "                  \"compress\": 'lzw',\n",
    "                  'BIGTIFF': 'YES'\n",
    "                  }\n",
    "               )\n",
    "\n",
    "with rio.open(outfile, \"w\", **out_meta) as dest:\n",
    "     dest.write(mosaic)"
   ]
  },
  {
   "cell_type": "markdown",
   "id": "0563fe68",
   "metadata": {},
   "source": [
    "### Clip to Boston Boundary"
   ]
  },
  {
   "cell_type": "code",
   "execution_count": 416,
   "id": "91e496ba",
   "metadata": {},
   "outputs": [
    {
     "name": "stdout",
     "output_type": "stream",
     "text": [
      "✅ DEM clipped and saved to: /Users/emmawit/Downloads/mosaiced-boston-clipped2.tif\n"
     ]
    }
   ],
   "source": [
    "import rasterio\n",
    "from rasterio.mask import mask\n",
    "import geopandas as gpd\n",
    "\n",
    "dem_path = \"/Users/emmawit/Downloads/mosaiced-boston.tif\"\n",
    "shapefile_path = \"/Users/emmawit/Downloads/city_of_boston_outline_boundary_water_included/City_of_Boston_Outline_Boundary_Water_Included.shp\"  # Update this path!\n",
    "output_path = \"/Users/emmawit/Downloads/mosaiced-boston-clipped2.tif\"\n",
    "\n",
    "gdf = gpd.read_file(shapefile_path)\n",
    "\n",
    "with rasterio.open(dem_path) as src:\n",
    "    if gdf.crs != src.crs:\n",
    "        gdf = gdf.to_crs(src.crs)\n",
    "\n",
    "    out_image, out_transform = mask(src, gdf.geometry, crop=True)\n",
    "    out_meta = src.meta.copy()\n",
    "\n",
    "out_meta.update({\n",
    "    \"driver\": \"GTiff\",\n",
    "    \"height\": out_image.shape[1],\n",
    "    \"width\": out_image.shape[2],\n",
    "    \"transform\": out_transform\n",
    "})\n",
    "\n",
    "with rasterio.open(output_path, \"w\", **out_meta) as dest:\n",
    "    dest.write(out_image)\n",
    "\n",
    "print(\"✅ DEM clipped and saved to:\", output_path)"
   ]
  }
 ],
 "metadata": {
  "kernelspec": {
   "display_name": "Python 3 (ipykernel)",
   "language": "python",
   "name": "python3"
  },
  "language_info": {
   "codemirror_mode": {
    "name": "ipython",
    "version": 3
   },
   "file_extension": ".py",
   "mimetype": "text/x-python",
   "name": "python",
   "nbconvert_exporter": "python",
   "pygments_lexer": "ipython3",
   "version": "3.12.8"
  }
 },
 "nbformat": 4,
 "nbformat_minor": 5
}
